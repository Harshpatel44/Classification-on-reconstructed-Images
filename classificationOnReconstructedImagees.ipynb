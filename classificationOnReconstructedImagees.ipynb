{
  "nbformat": 4,
  "nbformat_minor": 0,
  "metadata": {
    "kernelspec": {
      "name": "python3",
      "display_name": "Python 3"
    },
    "language_info": {
      "codemirror_mode": {
        "name": "ipython",
        "version": 3
      },
      "file_extension": ".py",
      "mimetype": "text/x-python",
      "name": "python",
      "nbconvert_exporter": "python",
      "pygments_lexer": "ipython3",
      "version": "3.6.4"
    },
    "colab": {
      "name": "use_denoising.ipynb",
      "provenance": [],
      "collapsed_sections": [],
      "machine_shape": "hm",
      "include_colab_link": true
    },
    "accelerator": "GPU"
  },
  "cells": [
    {
      "cell_type": "markdown",
      "metadata": {
        "id": "view-in-github",
        "colab_type": "text"
      },
      "source": [
        "<a href=\"https://colab.research.google.com/github/Harshpatel44/Classification-on-reconstructed-Images/blob/master/classificationOnReconstructedImagees.ipynb\" target=\"_parent\"><img src=\"https://colab.research.google.com/assets/colab-badge.svg\" alt=\"Open In Colab\"/></a>"
      ]
    },
    {
      "cell_type": "markdown",
      "metadata": {
        "id": "3q35dgSgmJuk",
        "colab_type": "text"
      },
      "source": [
        "In this notebook, We do as the following:\n",
        "1. Prepare the MNIST dataset\n",
        "2. Apply dimensionality reduction on the dataset using **PCA** ( variance = 0.90 )\n",
        "3. **Reconstruct the data** from PCA ( the reconstructed data is noisy images )\n",
        "4. Denoise the images using **autoencoders**\n",
        "5. Train and test the denoised images on **CNN** model and evaluate the results.\n",
        "6. Now, again apply dimensionality reduction using **PCA with variance=0.50** and evaluate the resuls after training with CNN model.\n",
        "\n"
      ]
    },
    {
      "cell_type": "markdown",
      "metadata": {
        "id": "Cb4o1_erj5jX",
        "colab_type": "text"
      },
      "source": [
        "**Imports**"
      ]
    },
    {
      "cell_type": "code",
      "metadata": {
        "id": "WLewWzi-p2az",
        "colab_type": "code",
        "colab": {}
      },
      "source": [
        "import numpy as np\n",
        "import pandas as pd\n",
        "from sklearn import datasets\n",
        "from sklearn.preprocessing import StandardScaler\n",
        "from sklearn import decomposition\n",
        "from matplotlib import pyplot as plt\n",
        "from matplotlib.pyplot import figure\n",
        "import torch\n",
        "import torch.nn as nn\n",
        "import torch.optim as optim\n",
        "import torch.nn.functional as Func \n",
        "import time\n",
        "global_a=time.time()"
      ],
      "execution_count": 0,
      "outputs": []
    },
    {
      "cell_type": "code",
      "metadata": {
        "id": "tNGNm6V_vqy3",
        "colab_type": "code",
        "outputId": "4ff80387-5edc-4061-b34e-36bf04b09503",
        "colab": {
          "base_uri": "https://localhost:8080/",
          "height": 34
        }
      },
      "source": [
        "device = torch.device(\"cuda\" if torch.cuda.is_available() else \"cpu\")\n",
        "print(device)"
      ],
      "execution_count": 2,
      "outputs": [
        {
          "output_type": "stream",
          "text": [
            "cuda\n"
          ],
          "name": "stdout"
        }
      ]
    },
    {
      "cell_type": "markdown",
      "metadata": {
        "id": "e4vGNwTgp2bB",
        "colab_type": "text"
      },
      "source": [
        "**Fetching Data, Assigning Variance for further use**"
      ]
    },
    {
      "cell_type": "code",
      "metadata": {
        "id": "DENxjP2GsJF4",
        "colab_type": "code",
        "colab": {}
      },
      "source": [
        "mnist = datasets.fetch_openml('mnist_784')"
      ],
      "execution_count": 0,
      "outputs": []
    },
    {
      "cell_type": "markdown",
      "metadata": {
        "id": "mIVYUfPJjwLE",
        "colab_type": "text"
      },
      "source": [
        "**Functions required further**"
      ]
    },
    {
      "cell_type": "code",
      "metadata": {
        "id": "r97Kc9Ktsh-s",
        "colab_type": "code",
        "colab": {}
      },
      "source": [
        "#fn for standard scaling\n",
        "def scaling(train_,test_):\n",
        "  scalar = StandardScaler()\n",
        "  scalar.fit(train_)\n",
        "  train_=scalar.transform(train_)\n",
        "  test_=scalar.transform(test_)\n",
        "  return train_,test_\n",
        "\n",
        "#fn for plotting all variances\n",
        "def plot_variances(digits,labels,iteration=3,tight=1):\n",
        "  fig = plt.figure()\n",
        "  for i in range(iteration):\n",
        "    plt.subplot(3,3,i+1)\n",
        "    if(tight==1):\n",
        "      plt.tight_layout()\n",
        "    try:\n",
        "      plt.imshow(np.reshape(digits,(60000,28,28))[i], cmap='gray', interpolation='none')\n",
        "    except:\n",
        "      plt.imshow(np.reshape(digits,(10000,28,28))[i], cmap='gray', interpolation='none')\n",
        "    plt.title(\"Digit: {}\".format(labels[i]))\n",
        "    plt.xticks([])\n",
        "    plt.yticks([])\n",
        "#fn for converting multi-numpy arrays to torch\n",
        "def numpy_to_torch(*args):\n",
        "  temp=[]\n",
        "  for i in args:\n",
        "    temp.append(torch.from_numpy( i[0].astype( str(i[1]) )).to( i[2] ))\n",
        "  return temp"
      ],
      "execution_count": 0,
      "outputs": []
    },
    {
      "cell_type": "markdown",
      "metadata": {
        "id": "A4w3jXCij0Xf",
        "colab_type": "text"
      },
      "source": [
        "**Preparing dataset**"
      ]
    },
    {
      "cell_type": "code",
      "metadata": {
        "id": "qB2_KAq2VqSF",
        "colab_type": "code",
        "colab": {}
      },
      "source": [
        "train = mnist.data[:60000,:]\n",
        "test =  mnist.data[60000:,:]\n",
        "y_train = mnist.target[:60000]\n",
        "y_test =  mnist.target[60000:]\n",
        "\n",
        "#train_,test_=scaling(train,test)\n",
        "train_=np.clip(train,0.,1.)\n",
        "test_=np.clip(test,0.,1.)\n",
        "\n",
        "y_train,y_test=numpy_to_torch([y_train,\"int64\",\"cpu\"],[y_test,\"int64\",\"cpu\"])"
      ],
      "execution_count": 0,
      "outputs": []
    },
    {
      "cell_type": "markdown",
      "metadata": {
        "id": "XMu7bxqMj9Hw",
        "colab_type": "text"
      },
      "source": [
        "**Denoising Model**"
      ]
    },
    {
      "cell_type": "code",
      "metadata": {
        "id": "HgFa6AAkp2bR",
        "colab_type": "code",
        "colab": {}
      },
      "source": [
        "import torch.nn as nn\n",
        "import torch.nn.functional as F\n",
        "def Denoising(noisy_images,true_images,test_images,batch_size=100,epochs=20,dev='cuda'):\n",
        "  losses=[]\n",
        "  noisy_images=noisy_images.view(-1,1,28,28)\n",
        "  test_images=test_images.view(-1,1,28,28)\n",
        "  true_images=true_images.view(-1,1,28,28)\n",
        "  train_loader = torch.utils.data.DataLoader(noisy_images,batch_size=batch_size,shuffle=False)\n",
        "  true_loader = torch.utils.data.DataLoader(true_images,batch_size=batch_size,shuffle=False)\n",
        "  test_loader= torch.utils.data.DataLoader(test_images,batch_size=batch_size,shuffle=False)\n",
        "\n",
        "  class denoise_model(nn.Module):\n",
        "      def __init__(self):\n",
        "          super(denoise_model, self).__init__()\n",
        "          # encoder\n",
        "          self.conv1 = nn.Conv2d(1, 32, 3, padding=1)  \n",
        "          self.conv2 = nn.Conv2d(32, 16, 3, padding=1)\n",
        "          self.conv3 = nn.Conv2d(16, 8, 3, padding=1)\n",
        "          self.pool = nn.MaxPool2d(2, 2)\n",
        "          \n",
        "          # decoder\n",
        "          self.t_conv1 = nn.ConvTranspose2d(8, 8, 3, stride=2) \n",
        "          self.t_conv2 = nn.ConvTranspose2d(8, 16, 2, stride=2)\n",
        "          self.t_conv3 = nn.ConvTranspose2d(16, 32, 2, stride=2)\n",
        "          self.conv_out = nn.Conv2d(32, 1, 3, padding=1)\n",
        "\n",
        "      def forward(self, x):\n",
        "          #encoding\n",
        "          x = F.relu(self.conv1(x))\n",
        "          x = self.pool(x)\n",
        "          x = F.relu(self.conv2(x))\n",
        "          x = self.pool(x)\n",
        "          x = F.relu(self.conv3(x))\n",
        "          x = self.pool(x)  \n",
        "          \n",
        "          #decoding\n",
        "          x = F.relu(self.t_conv1(x))\n",
        "          x = F.relu(self.t_conv2(x))\n",
        "          x = F.relu(self.t_conv3(x))\n",
        "          x = torch.sigmoid(self.conv_out(x))   \n",
        "          return x\n",
        "\n",
        "      def reconstruct(self,x):\n",
        "          #encoding\n",
        "          x = F.relu(self.conv1(x))\n",
        "          x = self.pool(x)\n",
        "          x = F.relu(self.conv2(x))\n",
        "          x = self.pool(x)\n",
        "          x = F.relu(self.conv3(x))\n",
        "          x = self.pool(x)  \n",
        "          #decoding\n",
        "          x = F.relu(self.t_conv1(x))\n",
        "          x = F.relu(self.t_conv2(x))\n",
        "          x = F.relu(self.t_conv3(x))\n",
        "          x = torch.sigmoid(self.conv_out(x)) \n",
        "          return x\n",
        "\n",
        "  # initialize the neural network\n",
        "  model = denoise_model()\n",
        "  if(dev=='cuda'):\n",
        "    model.cuda()\n",
        "  criterion = nn.MSELoss()\n",
        "  optimizer = torch.optim.Adam(model.parameters(), lr=0.001)\n",
        "\n",
        "  for epoch in range(1, epochs+1):\n",
        "      for noisy,true in zip(train_loader,true_loader):\n",
        "          optimizer.zero_grad()\n",
        "          if(dev=='cuda'):\n",
        "            noisy=noisy.cuda()\n",
        "            true=true.cuda()\n",
        "          outputs = model(noisy)\n",
        "          loss = criterion(outputs, true)\n",
        "          loss.backward()\n",
        "          optimizer.step()\n",
        "          losses.append(loss.item())\n",
        "          del loss,outputs,noisy,true\n",
        "      print(\"Epoch:\",epoch,\"Loss:\",losses[-1])\n",
        "\n",
        "  temp_loader= torch.utils.data.DataLoader(noisy_images,batch_size=10000,shuffle=False)\n",
        "  count=0\n",
        "  with torch.no_grad():\n",
        "      for inputs in temp_loader:\n",
        "        if(count==0):\n",
        "            train_outputs = model(inputs.cuda())\n",
        "        else:\n",
        "            temp = model(inputs.cuda())\n",
        "            train_outputs=torch.cat((train_outputs,temp),0)\n",
        "        count+=1\n",
        "      \n",
        "  count=0\n",
        "  temp_loader= torch.utils.data.DataLoader(test_images,batch_size=10000,shuffle=False)\n",
        "  with torch.no_grad():    \n",
        "      for inputs in temp_loader:  \n",
        "        if(count==0):\n",
        "          test_outputs = model(inputs.cuda())\n",
        "        else:\n",
        "            temp = model(inputs.cuda())\n",
        "            test_outputs=torch.cat((test_outputs,temp),0)\n",
        "        count+=1\n",
        "      del temp,temp_loader,count\n",
        "\n",
        "  return train_outputs.detach(),test_outputs.detach()"
      ],
      "execution_count": 0,
      "outputs": []
    },
    {
      "cell_type": "markdown",
      "metadata": {
        "id": "9GZFXA1VkS3O",
        "colab_type": "text"
      },
      "source": [
        "**Creating noisy image by reconstructing from PCA**"
      ]
    },
    {
      "cell_type": "code",
      "metadata": {
        "id": "3mpGJ7DuXsRe",
        "colab_type": "code",
        "colab": {}
      },
      "source": [
        "variance=0.90\n",
        "pca=decomposition.PCA(variance)\n",
        "pca.fit(train_)\n",
        "noisy_images_train = pca.transform(train_)\n",
        "noisy_images_test = pca.transform(test_)\n",
        "\n",
        "noisy_images_train = pca.inverse_transform(noisy_images_train)\n",
        "noisy_images_test = pca.inverse_transform(noisy_images_test)\n",
        "\n",
        "noisy_images_train = torch.Tensor(noisy_images_train) #converting to tensor\n",
        "noisy_images_test = torch.Tensor(noisy_images_test) #converting to tensor\n",
        "\n",
        "train_= torch.Tensor(train_)\n",
        "test_ = torch.Tensor(test_)"
      ],
      "execution_count": 0,
      "outputs": []
    },
    {
      "cell_type": "markdown",
      "metadata": {
        "id": "J6EjiZlouUar",
        "colab_type": "text"
      },
      "source": [
        "**Reconstructed Image from PCA**"
      ]
    },
    {
      "cell_type": "code",
      "metadata": {
        "id": "_eoyOW2rtkiO",
        "colab_type": "code",
        "outputId": "01699ae7-957a-424b-c88d-1a372950b71a",
        "colab": {
          "base_uri": "https://localhost:8080/",
          "height": 281
        }
      },
      "source": [
        "plt.imshow(np.reshape(noisy_images_test,(10000,28,28))[0], cmap='gray', interpolation='none')\n",
        "plt.title(\"Digit: {}\".format(y_test[0]))\n",
        "plt.show()"
      ],
      "execution_count": 17,
      "outputs": [
        {
          "output_type": "display_data",
          "data": {
            "image/png": "[encoded data removed]",
            "text/plain": [
              "<Figure size 432x288 with 1 Axes>"
            ]
          },
          "metadata": {
            "tags": [],
            "needs_background": "light"
          }
        }
      ]
    },
    {
      "cell_type": "markdown",
      "metadata": {
        "id": "mOa3nI-rb3xf",
        "colab_type": "text"
      },
      "source": [
        "**Running Autoencoder to denoise the reconstructed PCA image**"
      ]
    },
    {
      "cell_type": "code",
      "metadata": {
        "id": "O4lY4MAEp2bc",
        "colab_type": "code",
        "outputId": "f2be2013-c747-4e29-b358-eb6a90612358",
        "colab": {
          "base_uri": "https://localhost:8080/",
          "height": 357
        }
      },
      "source": [
        "#running the model\n",
        "reconstructed_train,reconstructed_test=Denoising(noisy_images_train,train_,noisy_images_test,100,20,'cuda')  #epohes=10, batch_size=100"
      ],
      "execution_count": 18,
      "outputs": [
        {
          "output_type": "stream",
          "text": [
            "Epoch: 1 Loss: 0.055483378469944\n",
            "Epoch: 2 Loss: 0.04680982232093811\n",
            "Epoch: 3 Loss: 0.041327640414237976\n",
            "Epoch: 4 Loss: 0.037934862077236176\n",
            "Epoch: 5 Loss: 0.035935960710048676\n",
            "Epoch: 6 Loss: 0.034482888877391815\n",
            "Epoch: 7 Loss: 0.03292200714349747\n",
            "Epoch: 8 Loss: 0.03219619393348694\n",
            "Epoch: 9 Loss: 0.031370144337415695\n",
            "Epoch: 10 Loss: 0.03041667677462101\n",
            "Epoch: 11 Loss: 0.02962769754230976\n",
            "Epoch: 12 Loss: 0.02890179306268692\n",
            "Epoch: 13 Loss: 0.028356503695249557\n",
            "Epoch: 14 Loss: 0.028072765097022057\n",
            "Epoch: 15 Loss: 0.02788175269961357\n",
            "Epoch: 16 Loss: 0.027480406686663628\n",
            "Epoch: 17 Loss: 0.02696642279624939\n",
            "Epoch: 18 Loss: 0.026625515893101692\n",
            "Epoch: 19 Loss: 0.026322899386286736\n",
            "Epoch: 20 Loss: 0.026045270264148712\n"
          ],
          "name": "stdout"
        }
      ]
    },
    {
      "cell_type": "markdown",
      "metadata": {
        "id": "3JZdcd5zxDa4",
        "colab_type": "text"
      },
      "source": [
        "**Denoised Image**"
      ]
    },
    {
      "cell_type": "code",
      "metadata": {
        "id": "IHgGTjzCXW4M",
        "colab_type": "code",
        "outputId": "80726d06-f9dd-407a-b548-5893ce08c60a",
        "colab": {
          "base_uri": "https://localhost:8080/",
          "height": 115
        }
      },
      "source": [
        "reconstructed_train=reconstructed_train.view(60000,28,28)\n",
        "plot_variances(reconstructed_train.cpu().detach().numpy(),y_train,3,1)"
      ],
      "execution_count": 21,
      "outputs": [
        {
          "output_type": "display_data",
          "data": {
            "image/png": "[encoded data removed]",
            "text/plain": [
              "<Figure size 432x288 with 3 Axes>"
            ]
          },
          "metadata": {
            "tags": []
          }
        }
      ]
    },
    {
      "cell_type": "markdown",
      "metadata": {
        "id": "AnMsSNz5xBcA",
        "colab_type": "text"
      },
      "source": [
        "**Original Image**"
      ]
    },
    {
      "cell_type": "code",
      "metadata": {
        "id": "b95gXzPgq6T4",
        "colab_type": "code",
        "outputId": "6e25d928-8b0d-4c85-de81-21df66e6da47",
        "colab": {
          "base_uri": "https://localhost:8080/",
          "height": 115
        }
      },
      "source": [
        "plot_variances(train_,y_train,3,1)"
      ],
      "execution_count": 22,
      "outputs": [
        {
          "output_type": "display_data",
          "data": {
            "image/png": "[encoded data removed]",
            "text/plain": [
              "<Figure size 432x288 with 3 Axes>"
            ]
          },
          "metadata": {
            "tags": []
          }
        }
      ]
    },
    {
      "cell_type": "markdown",
      "metadata": {
        "id": "1YM4KvoXxGIl",
        "colab_type": "text"
      },
      "source": [
        "**Training Denoised Image on CNN and Evaluating Results**"
      ]
    },
    {
      "cell_type": "code",
      "metadata": {
        "id": "ncOLLoDraQ7K",
        "colab_type": "code",
        "colab": {}
      },
      "source": [
        "def cnn_Model(train_,test_,y_train_,y_test_,epochs=2,batch_size=100,filter_size=3,pool_size=2,lr=0.001,dev='cpu'):\n",
        "  train_=train_.view(-1,1,28,28)\n",
        "  test_=test_.view(-1,1,28,28)\n",
        "  training_acc=[]\n",
        "  testing_acc=[]\n",
        "  ip_channel=1\n",
        "  op_channel= 6\n",
        "  conv_strides=1\n",
        "  pool_strides=1\n",
        "  loss_list=[]\n",
        "\n",
        "  #formula to measure the output from convolution and pooling\n",
        "  op_conv1 = (( train_.shape[2] - filter_size) / conv_strides) +1\n",
        "  max_pool1 = (( op_conv1 - pool_size)/pool_strides) + 1\n",
        "  \n",
        "  train_loader = torch.utils.data.DataLoader(train_, batch_size=batch_size, shuffle=False)\n",
        "  test_loader = torch.utils.data.DataLoader(test_, batch_size=batch_size, shuffle=False)\n",
        "  y_train_loader = torch.utils.data.DataLoader(y_train_, batch_size=batch_size, shuffle=False)\n",
        "  y_test_loader = torch.utils.data.DataLoader(y_test_, batch_size=batch_size, shuffle=False)\n",
        "\n",
        "  class net(nn.Module):  \n",
        "    def __init__(self):\n",
        "      super(net,self).__init__()      \n",
        "      if(str(dev)=='cuda'): \n",
        "        #print('running on cuda')\n",
        "        self.conv1 = nn.Conv2d(ip_channel,op_channel,filter_size).cuda()\n",
        "        self.pool = nn.MaxPool2d(pool_size,pool_strides).cuda()\n",
        "        self.fc1 = nn.Linear(int(op_channel*max_pool1*max_pool1),84).cuda()\n",
        "        self.fc2 = nn.Linear(84,10).cuda()\n",
        "      else:\n",
        "        #print('running on cpu')\n",
        "        self.conv1 = nn.Conv2d(ip_channel,op_channel,filter_size)\n",
        "        self.pool = nn.MaxPool2d(pool_size,pool_strides)\n",
        "        self.fc1 = nn.Linear(int(op_channel*max_pool1*max_pool1),84)\n",
        "        self.fc2 = nn.Linear(84,10)\n",
        "    def forward(self,x):\n",
        "      x = self.pool(Func.relu(self.conv1(x)))\n",
        "      x=x.view(-1,int(op_channel*max_pool1*max_pool1))\n",
        "      x=Func.relu(self.fc1(x))\n",
        "      x=Func.log_softmax(self.fc2(x),dim=1)\n",
        "      return x\n",
        "  Net = net()\n",
        "  if(dev=='cuda'):\n",
        "    #print('device set on cuda')\n",
        "    Net.to(device)  \n",
        "  criterion = nn.CrossEntropyLoss()\n",
        "  optimizer = optim.RMSprop(Net.parameters(), lr = lr)\n",
        "\n",
        "  def train_eval():\n",
        "    correct = 0\n",
        "    total = 0\n",
        "    with torch.no_grad():\n",
        "        for inputs,labels in zip(train_loader,y_train_loader):\n",
        "          if(dev=='cuda'):\n",
        "              inputs = inputs.to(device)\n",
        "              labels = labels.to(device)\n",
        "          outputs = Net(inputs)\n",
        "          _, predicted = torch.max(outputs.data, 1)\n",
        "          total += labels.size(0)\n",
        "          correct += (predicted == labels).sum().item()\n",
        "    train_acc = correct / total\n",
        "    training_acc.append(train_acc)\n",
        "\n",
        "  def test_eval():\n",
        "    correct = 0\n",
        "    total = 0\n",
        "    with torch.no_grad():    \n",
        "        for inputs,labels in zip(test_loader,y_test_loader):  \n",
        "          if(dev=='cuda'):\n",
        "              inputs = inputs.to(device)\n",
        "              labels = labels.to(device)\n",
        "          outputs = Net(inputs)\n",
        "          _, predicted = torch.max(outputs.data, 1)\n",
        "          total += labels.size(0)\n",
        "          correct += (predicted == labels).sum().item()\n",
        "    test_acc = correct / total\n",
        "    testing_acc.append(test_acc)\n",
        "\n",
        "  for e in range(epochs):\n",
        "    for inputs,labels in zip(train_loader,y_train_loader):\n",
        "      if(dev=='cuda'):\n",
        "            inputs = inputs.to(device)\n",
        "            labels = labels.to(device)\n",
        "      optimizer.zero_grad()\n",
        "      outputs = Net(inputs)\n",
        "      loss = criterion(outputs,labels)\n",
        "      loss.backward()\n",
        "      optimizer.step()\n",
        "      loss_list.append(loss.item())\n",
        "    print(\"Epoch\",e,\"loss\",loss)\n",
        "  train_eval()\n",
        "  test_eval()\n",
        "\n",
        "  del Net,outputs,inputs,labels,train_,test_\n",
        "  return loss_list, training_acc, testing_acc"
      ],
      "execution_count": 0,
      "outputs": []
    },
    {
      "cell_type": "markdown",
      "metadata": {
        "id": "IMDM717dBN9y",
        "colab_type": "text"
      },
      "source": [
        "**Testing above Denoised Data on CNN model (which had variance=90%)**"
      ]
    },
    {
      "cell_type": "code",
      "metadata": {
        "id": "n7OQG9rybrbR",
        "colab_type": "code",
        "outputId": "1c9672be-c7aa-4a04-9ed8-13da5cf230ff",
        "colab": {
          "base_uri": "https://localhost:8080/",
          "height": 808
        }
      },
      "source": [
        "def testing_reconstructed_1(denoised_train,denoised_test,y_train,y_test,variance):\n",
        "  print('CNN Net on Reconstructed Images:')\n",
        "  #for i in reconstructed_images:\n",
        "    #data manipulated for standard scaling, and again converted to vector\n",
        "  denoised_train=denoised_train.reshape((60000,784)).cpu().detach().numpy()\n",
        "  denoised_test=denoised_test.reshape((10000,784)).cpu().detach().numpy()\n",
        "  denoised_train,denoised_test=scaling(denoised_train,denoised_test)\n",
        "  denoised_train=torch.from_numpy(denoised_train)\n",
        "  denoised_test=torch.from_numpy(denoised_test)\n",
        "  \n",
        "  a=time.time()\n",
        "  losses,cnn_train_acc,cnn_test_acc = cnn_Model(denoised_train,denoised_test,y_train,y_test,30,100,4,2,0.001,'cuda') #epochs,batch_size,filter_size,pool_size\n",
        "  b=time.time()\n",
        "\n",
        "  plt.plot(losses)\n",
        "  plt.title(\"Variance: \"+str(variance)+\"  Training acc: \"+str(cnn_train_acc[-1])+\"  Testing acc: \"+str(cnn_test_acc[-1])+\"  Execution_time: \"+str(b-a))\n",
        "  plt.show()\n",
        "\n",
        "import time\n",
        "testing_reconstructed_1(reconstructed_train,reconstructed_test,y_train,y_test,variance)"
      ],
      "execution_count": 0,
      "outputs": [
        {
          "output_type": "stream",
          "text": [
            "CNN Net on Reconstructed Images:\n",
            "Epoch 0 loss tensor(0.3069, device='cuda:0', grad_fn=<NllLossBackward>)\n",
            "Epoch 1 loss tensor(0.2817, device='cuda:0', grad_fn=<NllLossBackward>)\n",
            "Epoch 2 loss tensor(0.2793, device='cuda:0', grad_fn=<NllLossBackward>)\n",
            "Epoch 3 loss tensor(0.2466, device='cuda:0', grad_fn=<NllLossBackward>)\n",
            "Epoch 4 loss tensor(0.3394, device='cuda:0', grad_fn=<NllLossBackward>)\n",
            "Epoch 5 loss tensor(0.2778, device='cuda:0', grad_fn=<NllLossBackward>)\n",
            "Epoch 6 loss tensor(0.2226, device='cuda:0', grad_fn=<NllLossBackward>)\n",
            "Epoch 7 loss tensor(0.2146, device='cuda:0', grad_fn=<NllLossBackward>)\n",
            "Epoch 8 loss tensor(0.2099, device='cuda:0', grad_fn=<NllLossBackward>)\n",
            "Epoch 9 loss tensor(0.1943, device='cuda:0', grad_fn=<NllLossBackward>)\n",
            "Epoch 10 loss tensor(0.1872, device='cuda:0', grad_fn=<NllLossBackward>)\n",
            "Epoch 11 loss tensor(0.1989, device='cuda:0', grad_fn=<NllLossBackward>)\n",
            "Epoch 12 loss tensor(0.1817, device='cuda:0', grad_fn=<NllLossBackward>)\n",
            "Epoch 13 loss tensor(0.1836, device='cuda:0', grad_fn=<NllLossBackward>)\n",
            "Epoch 14 loss tensor(0.1626, device='cuda:0', grad_fn=<NllLossBackward>)\n",
            "Epoch 15 loss tensor(0.1433, device='cuda:0', grad_fn=<NllLossBackward>)\n",
            "Epoch 16 loss tensor(0.1420, device='cuda:0', grad_fn=<NllLossBackward>)\n",
            "Epoch 17 loss tensor(0.1732, device='cuda:0', grad_fn=<NllLossBackward>)\n",
            "Epoch 18 loss tensor(0.0823, device='cuda:0', grad_fn=<NllLossBackward>)\n",
            "Epoch 19 loss tensor(0.1133, device='cuda:0', grad_fn=<NllLossBackward>)\n",
            "Epoch 20 loss tensor(0.1117, device='cuda:0', grad_fn=<NllLossBackward>)\n",
            "Epoch 21 loss tensor(0.0897, device='cuda:0', grad_fn=<NllLossBackward>)\n",
            "Epoch 22 loss tensor(0.0979, device='cuda:0', grad_fn=<NllLossBackward>)\n",
            "Epoch 23 loss tensor(0.0277, device='cuda:0', grad_fn=<NllLossBackward>)\n",
            "Epoch 24 loss tensor(0.0229, device='cuda:0', grad_fn=<NllLossBackward>)\n",
            "Epoch 25 loss tensor(0.0468, device='cuda:0', grad_fn=<NllLossBackward>)\n",
            "Epoch 26 loss tensor(0.0434, device='cuda:0', grad_fn=<NllLossBackward>)\n",
            "Epoch 27 loss tensor(0.0681, device='cuda:0', grad_fn=<NllLossBackward>)\n",
            "Epoch 28 loss tensor(0.0066, device='cuda:0', grad_fn=<NllLossBackward>)\n",
            "Epoch 29 loss tensor(0.0266, device='cuda:0', grad_fn=<NllLossBackward>)\n"
          ],
          "name": "stdout"
        },
        {
          "output_type": "display_data",
          "data": {
            "image/png": "[encoded data removed]",
            "text/plain": [
              "<Figure size 432x288 with 1 Axes>"
            ]
          },
          "metadata": {
            "tags": []
          }
        }
      ]
    },
    {
      "cell_type": "markdown",
      "metadata": {
        "id": "Gt6FA-FMesc3",
        "colab_type": "text"
      },
      "source": [
        "Here we get **Training Accuracy- 98.87%** and **Testing Accuracy-95.25%**"
      ]
    },
    {
      "cell_type": "markdown",
      "metadata": {
        "id": "uqGAM5PrRYt5",
        "colab_type": "text"
      },
      "source": [
        "**Now we Test other reconstructed PCA data which has variance=0.50 and compare the differences**"
      ]
    },
    {
      "cell_type": "code",
      "metadata": {
        "id": "2s9MJDFtRYIq",
        "colab_type": "code",
        "outputId": "a9d1ee23-08be-419c-ae12-6c0e2c5b3f5d",
        "colab": {
          "base_uri": "https://localhost:8080/",
          "height": 808
        }
      },
      "source": [
        "def testing_reconstructed_2(reconstructed_train,reconstructed_test,y_train,y_test,variance):\n",
        "  print('CNN Net on Reconstructed Images:')\n",
        "  #manipulation\n",
        "  reconstructed_train=reconstructed_train.reshape((60000,784)).detach().numpy()\n",
        "  reconstructed_test=reconstructed_test.reshape((10000,784)).detach().numpy()\n",
        "  reconstructed_train,test_=scaling(reconstructed_train,reconstructed_test)\n",
        "  reconstructed_train=torch.from_numpy(reconstructed_train)\n",
        "  reconstructed_test=torch.from_numpy(reconstructed_test)\n",
        "  \n",
        "  a=time.time()\n",
        "  losses,cnn_train_acc,cnn_test_acc = cnn_Model(reconstructed_train,reconstructed_test,y_train,y_test,30,100,4,2,0.001,'cuda') #epochs,batch_size,filter_size,pool_size\n",
        "  b=time.time()\n",
        "\n",
        "  plt.plot(losses)\n",
        "  plt.title(\"Variance: \"+str(variance)+\"  Training acc: \"+str(cnn_train_acc[-1])+\"  Testing acc: \"+str(cnn_test_acc[-1])+\"  Execution_time: \"+str(b-a))\n",
        "  plt.show()\n",
        "  \n",
        "\n",
        "variance=0.50\n",
        "pca=decomposition.PCA(variance)\n",
        "pca.fit(train_)\n",
        "pca_train = pca.transform(train_)\n",
        "pca_test = pca.transform(test_)\n",
        "reconstructed_train = pca.inverse_transform(pca_train)\n",
        "reconstructed_test = pca.inverse_transform(pca_test)\n",
        "\n",
        "reconstructed_train = torch.Tensor(reconstructed_train) #converting to tensor\n",
        "reconstructed_test = torch.Tensor(reconstructed_test) #converting to tensor\n",
        "\n",
        "testing_reconstructed_2(reconstructed_train,reconstructed_test,y_train,y_test,variance)"
      ],
      "execution_count": 0,
      "outputs": [
        {
          "output_type": "stream",
          "text": [
            "CNN Net on Reconstructed Images:\n",
            "Epoch 0 loss tensor(0.3147, device='cuda:0', grad_fn=<NllLossBackward>)\n",
            "Epoch 1 loss tensor(0.3232, device='cuda:0', grad_fn=<NllLossBackward>)\n",
            "Epoch 2 loss tensor(0.3253, device='cuda:0', grad_fn=<NllLossBackward>)\n",
            "Epoch 3 loss tensor(0.3122, device='cuda:0', grad_fn=<NllLossBackward>)\n",
            "Epoch 4 loss tensor(0.3031, device='cuda:0', grad_fn=<NllLossBackward>)\n",
            "Epoch 5 loss tensor(0.3073, device='cuda:0', grad_fn=<NllLossBackward>)\n",
            "Epoch 6 loss tensor(0.3157, device='cuda:0', grad_fn=<NllLossBackward>)\n",
            "Epoch 7 loss tensor(0.3072, device='cuda:0', grad_fn=<NllLossBackward>)\n",
            "Epoch 8 loss tensor(0.3053, device='cuda:0', grad_fn=<NllLossBackward>)\n",
            "Epoch 9 loss tensor(0.2976, device='cuda:0', grad_fn=<NllLossBackward>)\n",
            "Epoch 10 loss tensor(0.3068, device='cuda:0', grad_fn=<NllLossBackward>)\n",
            "Epoch 11 loss tensor(0.2996, device='cuda:0', grad_fn=<NllLossBackward>)\n",
            "Epoch 12 loss tensor(0.3006, device='cuda:0', grad_fn=<NllLossBackward>)\n",
            "Epoch 13 loss tensor(0.2954, device='cuda:0', grad_fn=<NllLossBackward>)\n",
            "Epoch 14 loss tensor(0.2925, device='cuda:0', grad_fn=<NllLossBackward>)\n",
            "Epoch 15 loss tensor(0.2828, device='cuda:0', grad_fn=<NllLossBackward>)\n",
            "Epoch 16 loss tensor(0.2843, device='cuda:0', grad_fn=<NllLossBackward>)\n",
            "Epoch 17 loss tensor(0.2850, device='cuda:0', grad_fn=<NllLossBackward>)\n",
            "Epoch 18 loss tensor(0.2858, device='cuda:0', grad_fn=<NllLossBackward>)\n",
            "Epoch 19 loss tensor(0.2842, device='cuda:0', grad_fn=<NllLossBackward>)\n",
            "Epoch 20 loss tensor(0.2884, device='cuda:0', grad_fn=<NllLossBackward>)\n",
            "Epoch 21 loss tensor(0.2845, device='cuda:0', grad_fn=<NllLossBackward>)\n",
            "Epoch 22 loss tensor(0.2832, device='cuda:0', grad_fn=<NllLossBackward>)\n",
            "Epoch 23 loss tensor(0.2644, device='cuda:0', grad_fn=<NllLossBackward>)\n",
            "Epoch 24 loss tensor(0.2836, device='cuda:0', grad_fn=<NllLossBackward>)\n",
            "Epoch 25 loss tensor(0.2716, device='cuda:0', grad_fn=<NllLossBackward>)\n",
            "Epoch 26 loss tensor(0.3024, device='cuda:0', grad_fn=<NllLossBackward>)\n",
            "Epoch 27 loss tensor(0.2675, device='cuda:0', grad_fn=<NllLossBackward>)\n",
            "Epoch 28 loss tensor(0.2834, device='cuda:0', grad_fn=<NllLossBackward>)\n",
            "Epoch 29 loss tensor(0.2658, device='cuda:0', grad_fn=<NllLossBackward>)\n"
          ],
          "name": "stdout"
        },
        {
          "output_type": "display_data",
          "data": {
            "image/png": "[encoded data removed]",
            "text/plain": [
              "<Figure size 432x288 with 1 Axes>"
            ]
          },
          "metadata": {
            "tags": []
          }
        }
      ]
    },
    {
      "cell_type": "markdown",
      "metadata": {
        "id": "5JZahgwCe46T",
        "colab_type": "text"
      },
      "source": [
        "Here we get Training Accuracy- 93.67% and Testing Accuracy-35.75% . The Testing Accuracy is very less compared to our earlier result of Denoised data(variance=95%). Execution time for both the datasets is almost same. Hence we can conclude that denoised data performs better. Although The variance is different for both the datasets, with same datasets denoising would improve the result in general"
      ]
    },
    {
      "cell_type": "code",
      "metadata": {
        "id": "JgSjW2RCbHMv",
        "colab_type": "code",
        "outputId": "c66eb1cd-65bc-4291-b5e7-030712d58dab",
        "colab": {
          "base_uri": "https://localhost:8080/",
          "height": 34
        }
      },
      "source": [
        "global_b=time.time()\n",
        "print(\"Total Time: \",global_b-global_a)"
      ],
      "execution_count": 0,
      "outputs": [
        {
          "output_type": "stream",
          "text": [
            "Total Time:  234.96648573875427\n"
          ],
          "name": "stdout"
        }
      ]
    },
    {
      "cell_type": "code",
      "metadata": {
        "id": "EJQoAZlEH7a0",
        "colab_type": "code",
        "colab": {}
      },
      "source": [
        ""
      ],
      "execution_count": 0,
      "outputs": []
    }
  ]
}